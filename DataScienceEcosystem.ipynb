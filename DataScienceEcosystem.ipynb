{
 "cells": [
  {
   "cell_type": "markdown",
   "id": "476e53b4-4e78-4cb6-84ab-8049a6d3fbd6",
   "metadata": {},
   "source": [
    "**Exercise 2: Create markdown cell with title of the notebook**"
   ]
  },
  {
   "cell_type": "markdown",
   "id": "0273e026-5a07-40e5-997d-486015658c89",
   "metadata": {},
   "source": [
    "# Data Science Tools and Ecosystem "
   ]
  },
  {
   "cell_type": "markdown",
   "id": "56b1c002-345d-434f-950c-fe02c15f4ad1",
   "metadata": {},
   "source": [
    "**Exercise 3 - Create a markdown cell for an introduction**"
   ]
  },
  {
   "cell_type": "markdown",
   "id": "9294d643-3c21-4009-941c-be435a18dad9",
   "metadata": {},
   "source": [
    "In this notebook, Data Science Tools and Ecosystem are summarized."
   ]
  },
  {
   "cell_type": "markdown",
   "id": "6fc40963-4687-42fc-a78a-137f128f05aa",
   "metadata": {},
   "source": [
    "**Exercise 10 - Insert a markdown cell to list Objectives**\n"
   ]
  },
  {
   "cell_type": "markdown",
   "id": "a5daa2ac-97ce-43bb-a5de-9c77bdb1e196",
   "metadata": {},
   "source": [
    "**Objectives:**\n",
    "\n",
    "- List popular languages for Data Science\n",
    "- List commonly used libraries used by Data Scientists\n",
    "- Create and format markdown cells in a Jupyter Notebook\n",
    "- Create and run code cells in a Jupyter Notebook\n",
    "- Use arithmetic expressions and variables in Python\n"
   ]
  },
  {
   "cell_type": "markdown",
   "id": "76525653-fd68-46dc-89ab-19cc09f8d199",
   "metadata": {},
   "source": [
    "**Exercise 4 - Create a markdown cell to list data science languages**"
   ]
  },
  {
   "cell_type": "markdown",
   "id": "cea272de-bb12-4e1c-a947-716174476e13",
   "metadata": {},
   "source": [
    "Some of the popular languages that Data Scientists use are:\n",
    "1. Python\n",
    "2. R\n",
    "3. SQL\n",
    "4. Julia\n",
    "5. Scala"
   ]
  },
  {
   "cell_type": "markdown",
   "id": "d21a408c-0bf5-4533-9990-8f698ef6ff8b",
   "metadata": {},
   "source": [
    "**Exercise 5 - Create a markdown cell to list data science libraries**"
   ]
  },
  {
   "cell_type": "markdown",
   "id": "6e422a3d-d956-4967-aa47-27f948d5a80d",
   "metadata": {},
   "source": [
    "Some of the commonly used libraries used by Data Scientists include:\n",
    "1. **Python:** pandas, NumPy, Matplotlib, Seaborn, Plotly, Altair, scikit-learn, XGBoost, LightGBM\n",
    "2. **R:** dplyr, tidyr, data.table, ggplot2, plotly, lattice, shiny\n",
    "3. **Julia:** DataFrames.jl, Plots.jl, Gadfly.jl, Makie.jl\n",
    "4. **Scala:** Apache Spark, MLlib, Weka, Deeplearning4j, Java-ML"
   ]
  },
  {
   "cell_type": "markdown",
   "id": "7daa0de9-2201-451f-aa16-dcf48b0dac0f",
   "metadata": {},
   "source": [
    "**Exercise 6 - Create a markdown cell with a table of Data Science tools**"
   ]
  },
  {
   "cell_type": "markdown",
   "id": "db6ad80a-8452-469d-8979-22d62e4dfbe8",
   "metadata": {},
   "source": [
    "| Data Science Tools       |\n",
    "|--------------------------|\n",
    "| Jupyter Notebook         |\n",
    "| RStudio                  |\n",
    "| Apache Zeppelin          |\n"
   ]
  },
  {
   "cell_type": "markdown",
   "id": "4ae1d038-b86e-4345-bab0-f3390f70b1e5",
   "metadata": {},
   "source": [
    "**Exercise 7 - Create a markdown cell introducing arithmetic expression examples**"
   ]
  },
  {
   "cell_type": "markdown",
   "id": "5ec0ad23-d85f-48c6-a9c0-4dd67475e7f4",
   "metadata": {},
   "source": [
    "### Below are a few examples of evaluating arithmetic expressions in Python"
   ]
  },
  {
   "cell_type": "markdown",
   "id": "6cbdbc17-85ba-4c34-8fb5-f808b404472f",
   "metadata": {},
   "source": [
    "**Exercise 8 - Create a code cell to multiply and add numbers**"
   ]
  },
  {
   "cell_type": "code",
   "execution_count": 18,
   "id": "08c96bfe-3f22-482b-8366-73794e1d9cd2",
   "metadata": {},
   "outputs": [
    {
     "data": {
      "text/plain": [
       "17"
      ]
     },
     "execution_count": 18,
     "metadata": {},
     "output_type": "execute_result"
    }
   ],
   "source": [
    "# This a simple arithmetic expression to mutiply then add integers\n",
    "(3*4)+5"
   ]
  },
  {
   "cell_type": "markdown",
   "id": "ddcfb7cf-8ee0-4843-aacd-08b0923df6dc",
   "metadata": {},
   "source": [
    "**Exercise 9 - Create a code cell to convert minutes to hours**"
   ]
  },
  {
   "cell_type": "code",
   "execution_count": 19,
   "id": "e575b596-a05c-41cf-b739-fbe04101fada",
   "metadata": {},
   "outputs": [
    {
     "data": {
      "text/plain": [
       "3.33"
      ]
     },
     "execution_count": 19,
     "metadata": {},
     "output_type": "execute_result"
    }
   ],
   "source": [
    "# This will convert 200 minutes to hours by diving by 60\n",
    "round(200 / 60, 2)"
   ]
  },
  {
   "cell_type": "markdown",
   "id": "672b2abd-648a-4c13-b799-041dfff20048",
   "metadata": {},
   "source": [
    "**Exercise 11 - Create a markdown cell to indicate the Author's nameExercise 10 - Insert a markdown cell to list Objectives**"
   ]
  },
  {
   "cell_type": "markdown",
   "id": "88e66e12-68b1-45ad-8960-9cf8c13a9deb",
   "metadata": {},
   "source": [
    "## Author \n",
    "Patty"
   ]
  },
  {
   "cell_type": "code",
   "execution_count": null,
   "id": "760d6ca3-e76a-42a7-bd9b-7d40db8a0e10",
   "metadata": {},
   "outputs": [],
   "source": []
  }
 ],
 "metadata": {
  "kernelspec": {
   "display_name": "Python 3 (ipykernel)",
   "language": "python",
   "name": "python3"
  },
  "language_info": {
   "codemirror_mode": {
    "name": "ipython",
    "version": 3
   },
   "file_extension": ".py",
   "mimetype": "text/x-python",
   "name": "python",
   "nbconvert_exporter": "python",
   "pygments_lexer": "ipython3",
   "version": "3.12.8"
  }
 },
 "nbformat": 4,
 "nbformat_minor": 5
}
